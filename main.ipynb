{
 "cells": [
  {
   "cell_type": "code",
   "execution_count": 2,
   "metadata": {},
   "outputs": [],
   "source": [
    "from PIL import Image\n",
    "import numpy as np\n",
    "import os\n",
    "import random"
   ]
  },
  {
   "cell_type": "code",
   "execution_count": 37,
   "metadata": {},
   "outputs": [
    {
     "name": "stdout",
     "output_type": "stream",
     "text": [
      "784\n"
     ]
    }
   ],
   "source": [
    "train_link = \"dataset/trainingSample/trainingSample\"\n",
    "X = []\n",
    "Y = []\n",
    "for i in range(10):\n",
    "    for image_name in os.listdir(f\"{train_link}/{i}\"):\n",
    "        image_path = f\"{train_link}/{i}/{image_name}\"\n",
    "\n",
    "        img = Image.open(image_path)\n",
    "        img = img.resize((28, 28))\n",
    "        img = np.array(img)\n",
    "        img = img / 255\n",
    "        img = img.reshape(1, 784)\n",
    "        img = img[0]\n",
    "        X.append(img)\n",
    "        Y.append(np.eye(10)[i])\n",
    "\n",
    "# gộp X và Y thành 1 mảng\n",
    "combined = list(zip(X, Y))\n",
    "# trộn mảng\n",
    "random.shuffle(combined)\n",
    "# tách mảng\n",
    "X[:], Y[:] = zip(*combined)\n",
    "\n",
    "# X từng hàng là toàn bộ pixel của một ảnh kích thước 28x28\n",
    "# Y là nhãn của ảnh, từng hàng gồm 10 phần tử, phần tử thứ i là 1 và các phần tử còn lại là 0"
   ]
  },
  {
   "cell_type": "code",
   "execution_count": 38,
   "metadata": {},
   "outputs": [],
   "source": [
    "input_size = 28 * 28  # 784\n",
    "hidden_size_1 = 100   # Lớp ẩn thứ nhất\n",
    "hidden_size_2 = 50    # Lớp ẩn thứ hai\n",
    "output_size = 10      # Lớp đầu ra (cho phân loại 10 lớp)\n",
    "\n",
    "\n",
    "np.random.seed(0)\n",
    "weights_input_hidden1 = np.random.rand(input_size, hidden_size_1)\n",
    "weights_hidden1_hidden2 = np.random.rand(hidden_size_1, hidden_size_2)\n",
    "\n",
    "weights_hidden2_output = np.random.rand(hidden_size_2, output_size)\n",
    "\n"
   ]
  },
  {
   "cell_type": "code",
   "execution_count": 50,
   "metadata": {},
   "outputs": [],
   "source": [
    "def sigmoid(x):\n",
    "    return 1 / (1 + np.exp(-x))\n",
    "def sigmoid_derivative(x):\n",
    "    return x * (1 - x)\n",
    "learning_rate = 0.1\n"
   ]
  },
  {
   "cell_type": "code",
   "execution_count": 51,
   "metadata": {},
   "outputs": [
    {
     "ename": "ValueError",
     "evalue": "shapes (50,) and (10,) not aligned: 50 (dim 0) != 10 (dim 0)",
     "output_type": "error",
     "traceback": [
      "\u001b[1;31m---------------------------------------------------------------------------\u001b[0m",
      "\u001b[1;31mValueError\u001b[0m                                Traceback (most recent call last)",
      "Cell \u001b[1;32mIn[51], line 26\u001b[0m\n\u001b[0;32m     23\u001b[0m d_input_data \u001b[38;5;241m=\u001b[39m cost_input_hidden1\u001b[38;5;241m*\u001b[39msigmoid_derivative(input_data)\n\u001b[0;32m     25\u001b[0m \u001b[38;5;66;03m# Update weights\u001b[39;00m\n\u001b[1;32m---> 26\u001b[0m weights_hidden2_output \u001b[38;5;241m-\u001b[39m\u001b[38;5;241m=\u001b[39m learning_rate \u001b[38;5;241m*\u001b[39m hidden_layer_output_2\u001b[38;5;241m.\u001b[39mT\u001b[38;5;241m.\u001b[39mdot(d_final_output)\n\u001b[0;32m     27\u001b[0m weights_hidden1_hidden2 \u001b[38;5;241m-\u001b[39m\u001b[38;5;241m=\u001b[39m learning_rate \u001b[38;5;241m*\u001b[39m hidden_layer_output_1\u001b[38;5;241m.\u001b[39mT\u001b[38;5;241m.\u001b[39mdot(d_hidden_layer_output_2)\n\u001b[0;32m     28\u001b[0m weights_input_hidden1 \u001b[38;5;241m-\u001b[39m\u001b[38;5;241m=\u001b[39m learning_rate \u001b[38;5;241m*\u001b[39m input_data\u001b[38;5;241m.\u001b[39mT\u001b[38;5;241m.\u001b[39mdot(d_hidden_layer_output_1)\n",
      "\u001b[1;31mValueError\u001b[0m: shapes (50,) and (10,) not aligned: 50 (dim 0) != 10 (dim 0)"
     ]
    }
   ],
   "source": [
    "for input_data, target in combined:\n",
    "    # Input -> hidden layer1\n",
    "    hidden_layer_input_1 = np.dot(input_data, weights_input_hidden1)\n",
    "    hidden_layer_output_1 = sigmoid(hidden_layer_input_1)\n",
    "    # hidden layer1 -> hidden layer2\n",
    "    hidden_layer_input_2 = np.dot(hidden_layer_output_1, weights_hidden1_hidden2)\n",
    "    hidden_layer_output_2 = sigmoid(hidden_layer_input_2)\n",
    "    # hidden layer2 -> ouput\n",
    "    final_input = np.dot(hidden_layer_output_2, weights_hidden2_output)\n",
    "    final_output = sigmoid(final_input)\n",
    "\n",
    "    # cost hay error độ lệch so với output đầu ra\n",
    "    cost = -(target*np.log10(final_output) + (1-target)*np.log10(1-final_output))\n",
    "    loss = np.mean(cost)\n",
    "\n",
    "    #Backpropagation\n",
    "    # w = w - learning_rate * d_cost/d_w\n",
    "\n",
    "    # Update loss history\n",
    "    print(loss)"
   ]
  }
 ],
 "metadata": {
  "kernelspec": {
   "display_name": "base",
   "language": "python",
   "name": "python3"
  },
  "language_info": {
   "codemirror_mode": {
    "name": "ipython",
    "version": 3
   },
   "file_extension": ".py",
   "mimetype": "text/x-python",
   "name": "python",
   "nbconvert_exporter": "python",
   "pygments_lexer": "ipython3",
   "version": "3.12.4"
  }
 },
 "nbformat": 4,
 "nbformat_minor": 2
}
